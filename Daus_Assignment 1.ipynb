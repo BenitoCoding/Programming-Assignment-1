{
 "cells": [
  {
   "cell_type": "markdown",
   "id": "e05226a3-9e68-4650-8a01-dc01a67ac33d",
   "metadata": {},
   "source": [
    "Alphabet Soup Problem"
   ]
  },
  {
   "cell_type": "code",
   "execution_count": 2,
   "id": "20f82732-e460-4b75-b1a7-98a267ba1161",
   "metadata": {},
   "outputs": [
    {
     "name": "stdin",
     "output_type": "stream",
     "text": [
      "Please enter a word:  I love engineering\n"
     ]
    },
    {
     "name": "stdout",
     "output_type": "stream",
     "text": [
      "    I e e e e g g i i l n n n o r v\n"
     ]
    }
   ],
   "source": [
    "# ALPHABET SOUP PROBLEM: Create a function that takes a string and returns a string with its letters\n",
    "# in alphabetical order.\n",
    "\n",
    "#The user will be asked to input the variable\n",
    "alphabet = input(\"Please enter a word: \")\n",
    "#The process of the variable (makes and sorts string in alphabetical order)\n",
    "\n",
    "letter = sorted(alphabet)\n",
    "sorted_alphabet = \" \".join(letter)\n",
    "\n",
    "#Shows the alphabet in order\n",
    "print (sorted_alphabet)"
   ]
  },
  {
   "cell_type": "markdown",
   "id": "ae9ae4d6-253d-42ad-8766-dac3528bc9d0",
   "metadata": {},
   "source": [
    "Emoticon Problem"
   ]
  },
  {
   "cell_type": "code",
   "execution_count": 3,
   "id": "a7e595c6-0302-4669-925d-be9fa1806611",
   "metadata": {},
   "outputs": [
    {
     "name": "stdin",
     "output_type": "stream",
     "text": [
      "Enter a  sentence:  Please smile bruno or we will be sad and your father will be mad\n"
     ]
    },
    {
     "name": "stdout",
     "output_type": "stream",
     "text": [
      "Please :) bruno or we will be :(( and your father will be >:(\n"
     ]
    }
   ],
   "source": [
    "# EMOTICON PROBLEM: Create a function that changes specific words into emoticons. Given a sentence\n",
    "# as a string, replace the words smile, grin, sad and mad with their corresponding emoticon:\n",
    "\n",
    "def emote(sentence):\n",
    "\n",
    "    #Variables that will be used, assigns the emoticons\n",
    "    emotes = {\"smile\" : \":)\", \"grin\" : \":D\", \"sad\": \":((\", \"mad\": \">:(\"}\n",
    "    return \" \".join(emotes.get(word.lower(),word)for word in sentence.split())\n",
    "\n",
    "sentence = input (\"Enter a  sentence: \") #User will input a sentence\n",
    "\n",
    "#Shows the sentence with the emoticons\n",
    "print(emote(sentence))\n"
   ]
  },
  {
   "cell_type": "markdown",
   "id": "5516e541-e29c-44c5-9868-5d16a9132d00",
   "metadata": {},
   "source": [
    "Unpacking List Problem"
   ]
  },
  {
   "cell_type": "code",
   "execution_count": 4,
   "id": "6ed1ba5a-0e99-4778-9386-c506a01e14ea",
   "metadata": {},
   "outputs": [
    {
     "name": "stdout",
     "output_type": "stream",
     "text": [
      "First: 1 Middle: [2, 3, 4, 5] Last: 6\n"
     ]
    }
   ],
   "source": [
    "# Unpack the list write your code here into three variables, being first,\n",
    "# middle, and last, with middle being everything in between the first and last element. Then print all three\n",
    "# variables.\n",
    "\n",
    "variable = [1, 2, 3, 4, 5,6 ]\n",
    "\n",
    "#Gets the variable of each on the list. This includes First, Middle, and Last\n",
    "First = variable[0]\n",
    "Middle = variable[1:-1]\n",
    "Last = variable[-1]\n",
    "\n",
    "#Shows the output of the given\n",
    "print(\"First:\", First, \"Middle:\", Middle, \"Last:\", Last)"
   ]
  }
 ],
 "metadata": {
  "kernelspec": {
   "display_name": "Python [conda env:base] *",
   "language": "python",
   "name": "conda-base-py"
  },
  "language_info": {
   "codemirror_mode": {
    "name": "ipython",
    "version": 3
   },
   "file_extension": ".py",
   "mimetype": "text/x-python",
   "name": "python",
   "nbconvert_exporter": "python",
   "pygments_lexer": "ipython3",
   "version": "3.13.5"
  }
 },
 "nbformat": 4,
 "nbformat_minor": 5
}
